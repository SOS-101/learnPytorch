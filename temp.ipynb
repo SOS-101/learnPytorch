{
 "cells": [
  {
   "cell_type": "code",
   "execution_count": 5,
   "metadata": {},
   "outputs": [],
   "source": [
    "import torch\n",
    "import torchvision\n",
    "from torch import nn\n",
    "\n",
    "vgg16 = torchvision.models.vgg16(pretrained=False)\n",
    "torch.save(vgg16.state_dict(), \"vgg16_method2.pth\")"
   ]
  },
  {
   "cell_type": "code",
   "execution_count": 6,
   "metadata": {},
   "outputs": [
    {
     "data": {
      "text/plain": [
       "<All keys matched successfully>"
      ]
     },
     "execution_count": 6,
     "metadata": {},
     "output_type": "execute_result"
    }
   ],
   "source": [
    "import torch\n",
    "import torchvision\n",
    "from torch import nn\n",
    "\n",
    "vgg16 = torchvision.models.vgg16(pretrained=False)\n",
    "vgg16.load_state_dict(torch.load(\"vgg16_method2.pth\"))"
   ]
  }
 ],
 "metadata": {
  "interpreter": {
   "hash": "39d0aae24ecfd0a4b4a4edb46195a6446c647d2895f5885ebaef350c54d389a2"
  },
  "kernelspec": {
   "display_name": "Python 3.9.7 64-bit ('taopytorch': conda)",
   "name": "python3"
  },
  "language_info": {
   "codemirror_mode": {
    "name": "ipython",
    "version": 3
   },
   "file_extension": ".py",
   "mimetype": "text/x-python",
   "name": "python",
   "nbconvert_exporter": "python",
   "pygments_lexer": "ipython3",
   "version": "3.9.7"
  },
  "orig_nbformat": 4
 },
 "nbformat": 4,
 "nbformat_minor": 2
}
